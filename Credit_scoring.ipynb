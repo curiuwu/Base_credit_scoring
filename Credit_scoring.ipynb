{
 "cells": [
  {
   "cell_type": "code",
   "execution_count": 1,
   "id": "2df5eb83",
   "metadata": {},
   "outputs": [
    {
     "name": "stdout",
     "output_type": "stream",
     "text": [
      "   age          job  marital  education default  balance housing loan  \\\n",
      "0   30   unemployed  married    primary      no     1787      no   no   \n",
      "1   33     services  married  secondary      no     4789     yes  yes   \n",
      "2   35   management   single   tertiary      no     1350     yes   no   \n",
      "3   30   management  married   tertiary      no     1476     yes  yes   \n",
      "4   59  blue-collar  married  secondary      no        0     yes   no   \n",
      "\n",
      "    contact  day month  duration  campaign  pdays  previous poutcome   y  \n",
      "0  cellular   19   oct        79         1     -1         0  unknown  no  \n",
      "1  cellular   11   may       220         1    339         4  failure  no  \n",
      "2  cellular   16   apr       185         1    330         1  failure  no  \n",
      "3   unknown    3   jun       199         4     -1         0  unknown  no  \n",
      "4   unknown    5   may       226         1     -1         0  unknown  no  \n"
     ]
    }
   ],
   "source": [
    "import pandas as pd\n",
    "\n",
    "# Загрузка данных из CSV файла\n",
    "\n",
    "df = pd.read_csv(r'bank.csv', sep=';')\n",
    "\n",
    "print(df.head())"
   ]
  },
  {
   "cell_type": "code",
   "execution_count": 2,
   "id": "46963233",
   "metadata": {},
   "outputs": [
    {
     "name": "stdout",
     "output_type": "stream",
     "text": [
      "<class 'pandas.core.frame.DataFrame'>\n",
      "RangeIndex: 4521 entries, 0 to 4520\n",
      "Data columns (total 17 columns):\n",
      " #   Column     Non-Null Count  Dtype \n",
      "---  ------     --------------  ----- \n",
      " 0   age        4521 non-null   int64 \n",
      " 1   job        4521 non-null   object\n",
      " 2   marital    4521 non-null   object\n",
      " 3   education  4521 non-null   object\n",
      " 4   default    4521 non-null   object\n",
      " 5   balance    4521 non-null   int64 \n",
      " 6   housing    4521 non-null   object\n",
      " 7   loan       4521 non-null   object\n",
      " 8   contact    4521 non-null   object\n",
      " 9   day        4521 non-null   int64 \n",
      " 10  month      4521 non-null   object\n",
      " 11  duration   4521 non-null   int64 \n",
      " 12  campaign   4521 non-null   int64 \n",
      " 13  pdays      4521 non-null   int64 \n",
      " 14  previous   4521 non-null   int64 \n",
      " 15  poutcome   4521 non-null   object\n",
      " 16  y          4521 non-null   object\n",
      "dtypes: int64(7), object(10)\n",
      "memory usage: 600.6+ KB\n",
      "None\n"
     ]
    }
   ],
   "source": [
    "print(df.info())"
   ]
  },
  {
   "cell_type": "code",
   "execution_count": 3,
   "id": "8e56ac3a",
   "metadata": {},
   "outputs": [
    {
     "name": "stdout",
     "output_type": "stream",
     "text": [
      "age          0.0\n",
      "job          0.0\n",
      "marital      0.0\n",
      "education    0.0\n",
      "default      0.0\n",
      "balance      0.0\n",
      "housing      0.0\n",
      "loan         0.0\n",
      "contact      0.0\n",
      "day          0.0\n",
      "month        0.0\n",
      "duration     0.0\n",
      "campaign     0.0\n",
      "pdays        0.0\n",
      "previous     0.0\n",
      "poutcome     0.0\n",
      "y            0.0\n",
      "dtype: float64\n"
     ]
    }
   ],
   "source": [
    "print(df.isna().sum() / len(df) * 100)"
   ]
  },
  {
   "cell_type": "code",
   "execution_count": 4,
   "id": "f3d5ab88",
   "metadata": {},
   "outputs": [
    {
     "name": "stdout",
     "output_type": "stream",
     "text": [
      "<class 'pandas.core.frame.DataFrame'>\n",
      "RangeIndex: 4521 entries, 0 to 4520\n",
      "Data columns (total 16 columns):\n",
      " #   Column           Non-Null Count  Dtype \n",
      "---  ------           --------------  ----- \n",
      " 0   age              4521 non-null   int64 \n",
      " 1   job              4521 non-null   object\n",
      " 2   marital          4521 non-null   object\n",
      " 3   education        4521 non-null   object\n",
      " 4   balance          4521 non-null   int64 \n",
      " 5   housing          4521 non-null   object\n",
      " 6   loan             4521 non-null   object\n",
      " 7   contact          4521 non-null   object\n",
      " 8   day              4521 non-null   int64 \n",
      " 9   month            4521 non-null   object\n",
      " 10  duration         4521 non-null   int64 \n",
      " 11  campaign         4521 non-null   int64 \n",
      " 12  pdays            4521 non-null   int64 \n",
      " 13  previous         4521 non-null   int64 \n",
      " 14  poutcome         4521 non-null   object\n",
      " 15  default_encoded  4521 non-null   int64 \n",
      "dtypes: int64(8), object(8)\n",
      "memory usage: 565.3+ KB\n",
      "None\n"
     ]
    }
   ],
   "source": [
    "df['default_encoded'] = df['default'].map({'no' : 0, 'yes' : 1})\n",
    "df = df.drop_duplicates()\n",
    "\n",
    "for col in df.columns:\n",
    "    if df[col].dtype == \"object\":\n",
    "        df[col] = df[col].fillna(df[col].mode()[0])\n",
    "    else:\n",
    "        df[col] = df[col].fillna(df[col].median())\n",
    "\n",
    "df = df.drop(columns=['default', 'y'], axis=1)\n",
    "print(df.info())"
   ]
  },
  {
   "cell_type": "code",
   "execution_count": 5,
   "id": "9270a56a",
   "metadata": {},
   "outputs": [],
   "source": [
    "from sklearn.preprocessing import LabelEncoder, StandardScaler\n",
    "from sklearn.model_selection import train_test_split, cross_val_score\n",
    "\n",
    "label_encoders = {}\n",
    "for col in df.select_dtypes(include=[\"object\"]).columns:\n",
    "    le = LabelEncoder()\n",
    "    df[col] = le.fit_transform(df[col])\n",
    "    label_encoders[col] = le\n",
    "\n",
    "X = df.drop(columns='default_encoded', axis=1)\n",
    "y = df['default_encoded']\n",
    "\n",
    "X_train, X_test, y_train, y_test = train_test_split(X, y, test_size=0.3, random_state=42, stratify=y)\n",
    "\n",
    "scaler = StandardScaler()\n",
    "\n",
    "X_train_scaled = scaler.fit_transform(X_train)\n",
    "X_test_scaled = scaler.transform(X_test)"
   ]
  },
  {
   "cell_type": "code",
   "execution_count": 6,
   "id": "ea68bb05",
   "metadata": {},
   "outputs": [
    {
     "name": "stdout",
     "output_type": "stream",
     "text": [
      "              precision    recall  f1-score   support\n",
      "\n",
      "           0       0.98      1.00      0.99      1334\n",
      "           1       0.00      0.00      0.00        23\n",
      "\n",
      "    accuracy                           0.98      1357\n",
      "   macro avg       0.49      0.50      0.50      1357\n",
      "weighted avg       0.97      0.98      0.97      1357\n",
      "\n",
      "Логистическая регрессия без CV \n",
      "ROC-AUC: 0.5000\n"
     ]
    }
   ],
   "source": [
    "from sklearn.linear_model import LogisticRegression\n",
    "from sklearn.metrics import classification_report, roc_auc_score, make_scorer\n",
    "\n",
    "model = LogisticRegression(max_iter=1000)\n",
    "roc_auc = make_scorer(roc_auc_score, needs_proba=True)\n",
    "\n",
    "model.fit(X_train_scaled, y_train)\n",
    "\n",
    "y_pred = model.predict(X_test_scaled)\n",
    "y_proba = model.predict_proba(X_test_scaled)\n",
    "\n",
    "roc_auc_lr = roc_auc_score(y_test, y_pred)\n",
    "\n",
    "print(classification_report(y_test, y_pred, zero_division=0.0))\n",
    "print(f'Логистическая регрессия без CV \\nROC-AUC: {roc_auc_lr:.4f}')"
   ]
  },
  {
   "cell_type": "code",
   "execution_count": 7,
   "id": "64472871",
   "metadata": {},
   "outputs": [
    {
     "name": "stdout",
     "output_type": "stream",
     "text": [
      "Средний ROC AUC на кросс-валидации: 0.8253\n"
     ]
    }
   ],
   "source": [
    "import numpy as np\n",
    "\n",
    "cv_scores = cross_val_score(model, X_train_scaled, y_train, cv=5, scoring='roc_auc')\n",
    "print(f\"Средний ROC AUC на кросс-валидации: {np.mean(cv_scores):.4f}\")"
   ]
  },
  {
   "cell_type": "code",
   "execution_count": 8,
   "id": "5f3674b3",
   "metadata": {},
   "outputs": [
    {
     "name": "stdout",
     "output_type": "stream",
     "text": [
      "              precision    recall  f1-score   support\n",
      "\n",
      "           0       0.98      1.00      0.99      1334\n",
      "           1       0.00      0.00      0.00        23\n",
      "\n",
      "    accuracy                           0.98      1357\n",
      "   macro avg       0.49      0.50      0.50      1357\n",
      "weighted avg       0.97      0.98      0.97      1357\n",
      "\n",
      "Логистическая регрессия без CV \n",
      "ROC-AUC: 0.5000\n"
     ]
    }
   ],
   "source": [
    "from sklearn.svm import SVC\n",
    "\n",
    "svm = SVC(kernel='rbf', probability=True, random_state=42)\n",
    "\n",
    "svm.fit(X_train_scaled, y_train)\n",
    "\n",
    "y_svm_pred = svm.predict(X_test_scaled)\n",
    "y_svm_prob = svm.predict_proba(X_test_scaled)\n",
    "\n",
    "roc_auc_svm = roc_auc_score(y_test, y_svm_pred)\n",
    "\n",
    "print(classification_report(y_test, y_pred, zero_division=0.0))\n",
    "print(f'Логистическая регрессия без CV \\nROC-AUC: {roc_auc_svm:.4f}')\n"
   ]
  },
  {
   "cell_type": "code",
   "execution_count": 9,
   "id": "da416bc2",
   "metadata": {},
   "outputs": [
    {
     "name": "stdout",
     "output_type": "stream",
     "text": [
      "Средний ROC AUC на кросс-валидации: 0.6660\n"
     ]
    }
   ],
   "source": [
    "cv_scores = cross_val_score(svm, X_train_scaled, y_train, cv=5, scoring='roc_auc')\n",
    "print(f\"Средний ROC AUC на кросс-валидации: {np.mean(cv_scores):.4f}\")"
   ]
  },
  {
   "cell_type": "code",
   "execution_count": 10,
   "id": "fd1110b8",
   "metadata": {},
   "outputs": [
    {
     "name": "stdout",
     "output_type": "stream",
     "text": [
      "                Модель  ROC-AUC (без CV)  ROC-AUC (CV)\n",
      "0  Logistic Regression               0.5      0.825309\n",
      "1                  SVM               0.5      0.665970\n"
     ]
    }
   ],
   "source": [
    "# Логистическая регрессия\n",
    "roc_auc_lr = roc_auc_score(y_test, y_pred)\n",
    "cv_scores_lr = cross_val_score(model, X_train_scaled, y_train, cv=5, scoring='roc_auc')\n",
    "cv_mean_lr = np.mean(cv_scores_lr)\n",
    "\n",
    "# SVM\n",
    "roc_auc_svm = roc_auc_score(y_test, y_svm_pred)\n",
    "cv_scores_svm = cross_val_score(svm, X_train_scaled, y_train, cv=5, scoring='roc_auc')\n",
    "cv_mean_svm = np.mean(cv_scores_svm)\n",
    "\n",
    "# Таблица сравнения\n",
    "results = pd.DataFrame({\n",
    "    'Модель': ['Logistic Regression', 'SVM'],\n",
    "    'ROC-AUC (без CV)': [roc_auc_lr, roc_auc_svm],\n",
    "    'ROC-AUC (CV)': [cv_mean_lr, cv_mean_svm]\n",
    "})\n",
    "\n",
    "print(results)"
   ]
  }
 ],
 "metadata": {
  "kernelspec": {
   "display_name": "Python 3",
   "language": "python",
   "name": "python3"
  },
  "language_info": {
   "codemirror_mode": {
    "name": "ipython",
    "version": 3
   },
   "file_extension": ".py",
   "mimetype": "text/x-python",
   "name": "python",
   "nbconvert_exporter": "python",
   "pygments_lexer": "ipython3",
   "version": "3.13.5"
  }
 },
 "nbformat": 4,
 "nbformat_minor": 5
}
